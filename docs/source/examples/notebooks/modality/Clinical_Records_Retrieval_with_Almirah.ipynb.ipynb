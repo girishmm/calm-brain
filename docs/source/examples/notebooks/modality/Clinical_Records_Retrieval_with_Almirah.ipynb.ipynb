{
 "cells": [
  {
   "cell_type": "markdown",
   "id": "10f25dc4-39dd-4719-bee6-4b6bee3c887c",
   "metadata": {},
   "source": [
    "# Accessing clinical records using almirah"
   ]
  },
  {
   "cell_type": "code",
   "execution_count": 2,
   "id": "82b7a056-96bf-4f35-9c63-76802262173c",
   "metadata": {},
   "outputs": [],
   "source": [
    "from almirah import Database"
   ]
  },
  {
   "cell_type": "code",
   "execution_count": 3,
   "id": "b266b540-567d-4dbf-a8ee-f1002207f7f9",
   "metadata": {},
   "outputs": [
    {
     "data": {
      "text/plain": [
       "<Database url: 'request:calm-brain@https://www.calm-brain.ncbs.res.in/db-request/'>"
      ]
     },
     "execution_count": 3,
     "metadata": {},
     "output_type": "execute_result"
    }
   ],
   "source": [
    "db = Database(name=\"calm-brain\", host=\"https://www.calm-brain.ncbs.res.in/db-request/\" , backend=\"request\")\n",
    "db"
   ]
  },
  {
   "cell_type": "code",
   "execution_count": 4,
   "id": "fa8a18dd-9a4f-4b3d-b964-a0b6d3d50143",
   "metadata": {},
   "outputs": [
    {
     "data": {
      "text/html": [
       "<div>\n",
       "<style scoped>\n",
       "    .dataframe tbody tr th:only-of-type {\n",
       "        vertical-align: middle;\n",
       "    }\n",
       "\n",
       "    .dataframe tbody tr th {\n",
       "        vertical-align: top;\n",
       "    }\n",
       "\n",
       "    .dataframe thead th {\n",
       "        text-align: right;\n",
       "    }\n",
       "</style>\n",
       "<table border=\"1\" class=\"dataframe\">\n",
       "  <thead>\n",
       "    <tr style=\"text-align: right;\">\n",
       "      <th></th>\n",
       "      <th>subject</th>\n",
       "      <th>session</th>\n",
       "      <th>addiction</th>\n",
       "    </tr>\n",
       "  </thead>\n",
       "  <tbody>\n",
       "    <tr>\n",
       "      <th>0</th>\n",
       "      <td>D0019</td>\n",
       "      <td>101</td>\n",
       "      <td>0</td>\n",
       "    </tr>\n",
       "    <tr>\n",
       "      <th>1</th>\n",
       "      <td>D0019</td>\n",
       "      <td>111</td>\n",
       "      <td>0</td>\n",
       "    </tr>\n",
       "    <tr>\n",
       "      <th>2</th>\n",
       "      <td>D0020</td>\n",
       "      <td>101</td>\n",
       "      <td>0</td>\n",
       "    </tr>\n",
       "    <tr>\n",
       "      <th>3</th>\n",
       "      <td>D0020</td>\n",
       "      <td>111</td>\n",
       "      <td>&lt;NA&gt;</td>\n",
       "    </tr>\n",
       "    <tr>\n",
       "      <th>4</th>\n",
       "      <td>D0021</td>\n",
       "      <td>101</td>\n",
       "      <td>0</td>\n",
       "    </tr>\n",
       "  </tbody>\n",
       "</table>\n",
       "</div>"
      ],
      "text/plain": [
       "  subject session  addiction\n",
       "0   D0019     101          0\n",
       "1   D0019     111          0\n",
       "2   D0020     101          0\n",
       "3   D0020     111       <NA>\n",
       "4   D0021     101          0"
      ]
     },
     "execution_count": 4,
     "metadata": {},
     "output_type": "execute_result"
    }
   ],
   "source": [
    "db.connect(\"username\", \"password\")\n",
    "df = db.query(table=\"presenting_disorders\")\n",
    "df[[\"subject\", \"session\", \"addiction\"]].head()"
   ]
  },
  {
   "cell_type": "code",
   "execution_count": 6,
   "id": "006e5208-82a8-4527-9947-78764a86e8ce",
   "metadata": {},
   "outputs": [
    {
     "data": {
      "text/plain": [
       "2561"
      ]
     },
     "execution_count": 6,
     "metadata": {},
     "output_type": "execute_result"
    }
   ],
   "source": [
    "len(df)"
   ]
  },
  {
   "cell_type": "code",
   "execution_count": 8,
   "id": "ab5788d5-602c-4632-b081-5f1d02e1fb47",
   "metadata": {},
   "outputs": [
    {
     "data": {
      "text/plain": [
       "522"
      ]
     },
     "execution_count": 8,
     "metadata": {},
     "output_type": "execute_result"
    }
   ],
   "source": [
    "len(df[df[\"addiction\"] == 1])"
   ]
  }
 ],
 "metadata": {
  "kernelspec": {
   "display_name": "Python 3 (ipykernel)",
   "language": "python",
   "name": "python3"
  },
  "language_info": {
   "codemirror_mode": {
    "name": "ipython",
    "version": 3
   },
   "file_extension": ".py",
   "mimetype": "text/x-python",
   "name": "python",
   "nbconvert_exporter": "python",
   "pygments_lexer": "ipython3",
   "version": "3.11.6"
  }
 },
 "nbformat": 4,
 "nbformat_minor": 5
}

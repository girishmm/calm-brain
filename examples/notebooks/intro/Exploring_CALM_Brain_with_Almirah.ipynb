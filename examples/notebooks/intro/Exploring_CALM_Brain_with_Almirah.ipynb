{
 "cells": [
  {
   "cell_type": "markdown",
   "id": "e0855c61-a2dd-42c3-a892-ff1fbadae042",
   "metadata": {
    "editable": true,
    "raw_mimetype": "",
    "slideshow": {
     "slide_type": ""
    },
    "tags": []
   },
   "source": [
    "# Exploring the CALM Brain Resource with almirah"
   ]
  },
  {
   "cell_type": "markdown",
   "id": "4e422355-7c22-40fd-82a6-ac87043f5bf3",
   "metadata": {},
   "source": [
    "## Load the dataset"
   ]
  },
  {
   "cell_type": "code",
   "execution_count": 1,
   "id": "4e96b8a0-4568-483f-909b-e7a256d7b903",
   "metadata": {
    "editable": true,
    "slideshow": {
     "slide_type": ""
    },
    "tags": []
   },
   "outputs": [],
   "source": [
    "from almirah import Dataset"
   ]
  },
  {
   "cell_type": "code",
   "execution_count": 2,
   "id": "7700d8fc-cc29-4c75-857e-af361d2758d8",
   "metadata": {
    "editable": true,
    "slideshow": {
     "slide_type": ""
    },
    "tags": []
   },
   "outputs": [
    {
     "data": {
      "text/plain": [
       "[<Dataset name: 'calm-brain'>]"
      ]
     },
     "execution_count": 2,
     "metadata": {},
     "output_type": "execute_result"
    }
   ],
   "source": [
    "Dataset.options()"
   ]
  },
  {
   "cell_type": "code",
   "execution_count": 18,
   "id": "6686ed6c-67b2-4e64-b478-79bc7def0f9a",
   "metadata": {
    "editable": true,
    "slideshow": {
     "slide_type": ""
    },
    "tags": []
   },
   "outputs": [
    {
     "data": {
      "text/plain": [
       "[<Layout root: '/path/to/data'>,\n",
       " <Layout root: '/path/to/genome'>,\n",
       " <Database url: 'request:calm-brain@https://www.calm-brain.ncbs.res.in/db-request/'>]"
      ]
     },
     "execution_count": 18,
     "metadata": {},
     "output_type": "execute_result"
    }
   ],
   "source": [
    "ds = Dataset(name=\"calm-brain\")\n",
    "ds.components"
   ]
  },
  {
   "cell_type": "markdown",
   "id": "8585c305-6821-4c8b-bff4-334a058c1895",
   "metadata": {},
   "source": [
    "## Quering layouts"
   ]
  },
  {
   "cell_type": "code",
   "execution_count": 17,
   "id": "a9135386-bc1c-4a4b-9166-773a627ea459",
   "metadata": {
    "editable": true,
    "slideshow": {
     "slide_type": ""
    },
    "tags": []
   },
   "outputs": [
    {
     "name": "stdout",
     "output_type": "stream",
     "text": [
      "<Layout root: '/path/to/data'>\n"
     ]
    },
    {
     "data": {
      "text/plain": [
       "42652"
      ]
     },
     "execution_count": 17,
     "metadata": {},
     "output_type": "execute_result"
    }
   ],
   "source": [
    "lay = ds.components[0]\n",
    "print(lay)\n",
    "len(lay.files)"
   ]
  },
  {
   "cell_type": "code",
   "execution_count": 5,
   "id": "559fabd9-1b88-42fd-9832-1fc8ac3595a5",
   "metadata": {
    "editable": true,
    "slideshow": {
     "slide_type": ""
    },
    "tags": []
   },
   "outputs": [
    {
     "data": {
      "text/plain": [
       "1589"
      ]
     },
     "execution_count": 5,
     "metadata": {},
     "output_type": "execute_result"
    }
   ],
   "source": [
    "from almirah import Tag\n",
    "\n",
    "tags = Tag.options()\n",
    "len(tags)"
   ]
  },
  {
   "cell_type": "code",
   "execution_count": 6,
   "id": "2238cd23-4600-4936-962a-1b80adf196aa",
   "metadata": {
    "editable": true,
    "slideshow": {
     "slide_type": ""
    },
    "tags": []
   },
   "outputs": [
    {
     "data": {
      "text/plain": [
       "{'acquisition',\n",
       " 'datatype',\n",
       " 'direction',\n",
       " 'extension',\n",
       " 'run',\n",
       " 'sample',\n",
       " 'session',\n",
       " 'space',\n",
       " 'subject',\n",
       " 'suffix',\n",
       " 'task'}"
      ]
     },
     "execution_count": 6,
     "metadata": {},
     "output_type": "execute_result"
    }
   ],
   "source": [
    "tags_names_possible = {tag.name for tag in tags}\n",
    "tags_names_possible"
   ]
  },
  {
   "cell_type": "code",
   "execution_count": 7,
   "id": "0ccb9542-b03b-4a59-ade4-034debfe1101",
   "metadata": {
    "editable": true,
    "slideshow": {
     "slide_type": ""
    },
    "tags": []
   },
   "outputs": [
    {
     "data": {
      "text/plain": [
       "[<Tag datatype: 'anat'>,\n",
       " <Tag datatype: 'dwi'>,\n",
       " <Tag datatype: 'eeg'>,\n",
       " <Tag datatype: 'eyetrack'>,\n",
       " <Tag datatype: 'fmap'>,\n",
       " <Tag datatype: 'func'>,\n",
       " <Tag datatype: 'genome'>,\n",
       " <Tag datatype: 'nirs'>]"
      ]
     },
     "execution_count": 7,
     "metadata": {},
     "output_type": "execute_result"
    }
   ],
   "source": [
    "Tag.options(name=\"datatype\")"
   ]
  },
  {
   "cell_type": "code",
   "execution_count": 8,
   "id": "8fb93af5-2c83-44dd-bb80-116a95a6a27c",
   "metadata": {
    "editable": true,
    "slideshow": {
     "slide_type": ""
    },
    "tags": []
   },
   "outputs": [
    {
     "data": {
      "text/plain": [
       "15821"
      ]
     },
     "execution_count": 8,
     "metadata": {},
     "output_type": "execute_result"
    }
   ],
   "source": [
    "files = lay.query(datatype=\"eeg\")\n",
    "len(files)"
   ]
  },
  {
   "cell_type": "code",
   "execution_count": 9,
   "id": "f710ee7c-fbeb-41a9-8129-cd84c3e8bae4",
   "metadata": {
    "editable": true,
    "slideshow": {
     "slide_type": ""
    },
    "tags": []
   },
   "outputs": [
    {
     "data": {
      "text/plain": [
       "'sub-D0828/ses-101/eeg/sub-D0828_ses-101_task-auditoryPCP_run-01_events.json'"
      ]
     },
     "execution_count": 9,
     "metadata": {},
     "output_type": "execute_result"
    }
   ],
   "source": [
    "file = files[0]\n",
    "file.rel_path"
   ]
  },
  {
   "cell_type": "code",
   "execution_count": 10,
   "id": "8d5f81d7-676a-4b9f-9ad2-172802e03775",
   "metadata": {
    "editable": true,
    "slideshow": {
     "slide_type": ""
    },
    "tags": []
   },
   "outputs": [
    {
     "data": {
      "text/plain": [
       "{'datatype': 'eeg', 'extension': '.json', 'run': '01', 'session': '101', 'subject': 'D0828', 'suffix': 'events', 'task': 'auditoryPCP'}"
      ]
     },
     "execution_count": 10,
     "metadata": {},
     "output_type": "execute_result"
    }
   ],
   "source": [
    "file.tags"
   ]
  },
  {
   "cell_type": "markdown",
   "id": "133874eb-c18e-4576-b72a-9c19c667d215",
   "metadata": {},
   "source": [
    "## Querying databases"
   ]
  },
  {
   "cell_type": "code",
   "execution_count": 16,
   "id": "40175bd7-a78c-494b-bc17-d928b3962506",
   "metadata": {},
   "outputs": [
    {
     "data": {
      "text/plain": [
       "<Database url: 'request:calm-brain@https://www.calm-brain.ncbs.res.in/db-request/'>"
      ]
     },
     "execution_count": 16,
     "metadata": {},
     "output_type": "execute_result"
    }
   ],
   "source": [
    "db = ds.components[2]\n",
    "db"
   ]
  },
  {
   "cell_type": "code",
   "execution_count": 13,
   "id": "d90dc35d-41b6-4888-9368-91e16e1d0793",
   "metadata": {},
   "outputs": [
    {
     "data": {
      "text/html": [
       "<div>\n",
       "<style scoped>\n",
       "    .dataframe tbody tr th:only-of-type {\n",
       "        vertical-align: middle;\n",
       "    }\n",
       "\n",
       "    .dataframe tbody tr th {\n",
       "        vertical-align: top;\n",
       "    }\n",
       "\n",
       "    .dataframe thead th {\n",
       "        text-align: right;\n",
       "    }\n",
       "</style>\n",
       "<table border=\"1\" class=\"dataframe\">\n",
       "  <thead>\n",
       "    <tr style=\"text-align: right;\">\n",
       "      <th></th>\n",
       "      <th>subject</th>\n",
       "      <th>session</th>\n",
       "      <th>addiction</th>\n",
       "    </tr>\n",
       "  </thead>\n",
       "  <tbody>\n",
       "    <tr>\n",
       "      <th>0</th>\n",
       "      <td>D0019</td>\n",
       "      <td>101</td>\n",
       "      <td>0</td>\n",
       "    </tr>\n",
       "    <tr>\n",
       "      <th>1</th>\n",
       "      <td>D0019</td>\n",
       "      <td>111</td>\n",
       "      <td>0</td>\n",
       "    </tr>\n",
       "    <tr>\n",
       "      <th>2</th>\n",
       "      <td>D0020</td>\n",
       "      <td>101</td>\n",
       "      <td>0</td>\n",
       "    </tr>\n",
       "    <tr>\n",
       "      <th>3</th>\n",
       "      <td>D0020</td>\n",
       "      <td>111</td>\n",
       "      <td>&lt;NA&gt;</td>\n",
       "    </tr>\n",
       "    <tr>\n",
       "      <th>4</th>\n",
       "      <td>D0021</td>\n",
       "      <td>101</td>\n",
       "      <td>0</td>\n",
       "    </tr>\n",
       "  </tbody>\n",
       "</table>\n",
       "</div>"
      ],
      "text/plain": [
       "  subject session  addiction\n",
       "0   D0019     101          0\n",
       "1   D0019     111          0\n",
       "2   D0020     101          0\n",
       "3   D0020     111       <NA>\n",
       "4   D0021     101          0"
      ]
     },
     "execution_count": 13,
     "metadata": {},
     "output_type": "execute_result"
    }
   ],
   "source": [
    "db.connect(\"username\", \"password\")\n",
    "df = db.query(table=\"presenting_disorders\")\n",
    "df[[\"subject\", \"session\", \"addiction\"]].head()"
   ]
  },
  {
   "cell_type": "markdown",
   "id": "727c5eb2-f6c2-43dd-a35f-67aad18627b6",
   "metadata": {},
   "source": [
    "## Generating summaries"
   ]
  },
  {
   "cell_type": "code",
   "execution_count": 16,
   "id": "37a11b9c-d062-4a77-902a-3cb005453ac4",
   "metadata": {},
   "outputs": [
    {
     "data": {
      "text/plain": [
       "699"
      ]
     },
     "execution_count": 16,
     "metadata": {},
     "output_type": "execute_result"
    }
   ],
   "source": [
    "anat_subject_tags = ds.query(returns=\"subject\", datatype=\"anat\")\n",
    "anat_subjects = {subject for t in anat_subject_tags for subject in t}\n",
    "len(anat_subjects)"
   ]
  },
  {
   "cell_type": "code",
   "execution_count": 17,
   "id": "719820db-37d5-48fd-a973-c2bf65067ae2",
   "metadata": {},
   "outputs": [
    {
     "data": {
      "text/plain": [
       "625"
      ]
     },
     "execution_count": 17,
     "metadata": {},
     "output_type": "execute_result"
    }
   ],
   "source": [
    "func_subject_tags = ds.query(returns=\"subject\", datatype=\"func\")\n",
    "func_subjects = {subject for t in func_subject_tags for subject in t}\n",
    "len(func_subjects)"
   ]
  },
  {
   "cell_type": "code",
   "execution_count": 18,
   "id": "033b7b53-a735-4bf3-9d38-ddadcefe15a5",
   "metadata": {},
   "outputs": [
    {
     "data": {
      "text/plain": [
       "640"
      ]
     },
     "execution_count": 18,
     "metadata": {},
     "output_type": "execute_result"
    }
   ],
   "source": [
    "dwi_subject_tags = ds.query(returns=\"subject\", datatype=\"dwi\")\n",
    "dwi_subjects = {subject for t in dwi_subject_tags for subject in t}\n",
    "len(dwi_subjects)"
   ]
  },
  {
   "cell_type": "code",
   "execution_count": 21,
   "id": "04e17531-281e-4d64-8b92-40b1e46eac5d",
   "metadata": {},
   "outputs": [
    {
     "data": {
      "text/plain": [
       "948"
      ]
     },
     "execution_count": 21,
     "metadata": {},
     "output_type": "execute_result"
    }
   ],
   "source": [
    "eeg_subject_tags = ds.query(returns=\"subject\", datatype=\"eeg\")\n",
    "eeg_subjects = {subject for t in eeg_subject_tags for subject in t}\n",
    "len(eeg_subjects)"
   ]
  },
  {
   "cell_type": "code",
   "execution_count": 20,
   "id": "16bd4235-f88a-4424-b9dc-07fdaf362d19",
   "metadata": {},
   "outputs": [
    {
     "data": {
      "text/plain": [
       "1075"
      ]
     },
     "execution_count": 20,
     "metadata": {},
     "output_type": "execute_result"
    }
   ],
   "source": [
    "eyetrack_subject_tags = ds.query(returns=\"subject\", datatype=\"eyetrack\")\n",
    "eyetrack_subjects = {subject for t in eyetrack_subject_tags for subject in t}\n",
    "len(eyetrack_subjects)"
   ]
  },
  {
   "cell_type": "code",
   "execution_count": 22,
   "id": "e91d1a9d-962d-46e9-9278-f31199be6bed",
   "metadata": {},
   "outputs": [
    {
     "data": {
      "text/plain": [
       "1134"
      ]
     },
     "execution_count": 22,
     "metadata": {},
     "output_type": "execute_result"
    }
   ],
   "source": [
    "nirs_subject_tags = ds.query(returns=\"subject\", datatype=\"nirs\")\n",
    "nirs_subjects = {subject for t in nirs_subject_tags for subject in t}\n",
    "len(nirs_subjects)"
   ]
  },
  {
   "cell_type": "code",
   "execution_count": 23,
   "id": "13ed432a-0eb9-4f25-b05d-90b6bbc11956",
   "metadata": {},
   "outputs": [
    {
     "data": {
      "text/plain": [
       "123"
      ]
     },
     "execution_count": 23,
     "metadata": {},
     "output_type": "execute_result"
    }
   ],
   "source": [
    "genome_subject_tags = ds.query(returns=\"subject\", datatype=\"genome\")\n",
    "genome_subjects = {subject for t in genome_subject_tags for subject in t}\n",
    "len(genome_subjects)"
   ]
  },
  {
   "cell_type": "code",
   "execution_count": 15,
   "id": "b0a0f3b8-8c21-4c1f-8e5d-98268396fc87",
   "metadata": {},
   "outputs": [
    {
     "data": {
      "text/plain": [
       "2276"
      ]
     },
     "execution_count": 15,
     "metadata": {},
     "output_type": "execute_result"
    }
   ],
   "source": [
    "df = db.query(table=\"subjects\")\n",
    "len(df)"
   ]
  },
  {
   "cell_type": "code",
   "execution_count": 16,
   "id": "482f558e-a231-41b6-8127-d2e95889cd53",
   "metadata": {},
   "outputs": [
    {
     "data": {
      "text/plain": [
       "1444"
      ]
     },
     "execution_count": 16,
     "metadata": {},
     "output_type": "execute_result"
    }
   ],
   "source": [
    "df = db.query(table=\"modified_kuppuswamy_socioeconomic_scale\")\n",
    "len(df)"
   ]
  },
  {
   "cell_type": "code",
   "execution_count": 17,
   "id": "830504c5-c7c2-4101-8256-6a628c0d9509",
   "metadata": {},
   "outputs": [
    {
     "data": {
      "text/plain": [
       "1984"
      ]
     },
     "execution_count": 17,
     "metadata": {},
     "output_type": "execute_result"
    }
   ],
   "source": [
    "df = db.query(table=\"global_assessment_of_functioning\")\n",
    "len(df)"
   ]
  },
  {
   "cell_type": "code",
   "execution_count": 18,
   "id": "cf426046-ccdc-47f9-b073-1a0f9f3010f0",
   "metadata": {},
   "outputs": [
    {
     "data": {
      "text/plain": [
       "2080"
      ]
     },
     "execution_count": 18,
     "metadata": {},
     "output_type": "execute_result"
    }
   ],
   "source": [
    "df = db.query(table=\"bulimia_nervosa\")\n",
    "len(df)"
   ]
  }
 ],
 "metadata": {
  "kernelspec": {
   "display_name": "Python 3 (ipykernel)",
   "language": "python",
   "name": "python3"
  },
  "language_info": {
   "codemirror_mode": {
    "name": "ipython",
    "version": 3
   },
   "file_extension": ".py",
   "mimetype": "text/x-python",
   "name": "python",
   "nbconvert_exporter": "python",
   "pygments_lexer": "ipython3",
   "version": "3.11.6"
  }
 },
 "nbformat": 4,
 "nbformat_minor": 5
}
